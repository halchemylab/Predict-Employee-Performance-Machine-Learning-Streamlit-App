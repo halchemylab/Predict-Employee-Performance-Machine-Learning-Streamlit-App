{
 "cells": [
  {
   "cell_type": "code",
   "execution_count": 24,
   "metadata": {},
   "outputs": [],
   "source": [
    "import pandas as pd\n",
    "import numpy as np\n",
    "import matplotlib.pyplot as plt"
   ]
  },
  {
   "cell_type": "code",
   "execution_count": 25,
   "metadata": {},
   "outputs": [],
   "source": [
    "data = pd.read_csv('Extended_Employee_Performance_and_Productivity_Data.csv')"
   ]
  },
  {
   "cell_type": "code",
   "execution_count": 26,
   "metadata": {},
   "outputs": [
    {
     "data": {
      "text/html": [
       "<div>\n",
       "<style scoped>\n",
       "    .dataframe tbody tr th:only-of-type {\n",
       "        vertical-align: middle;\n",
       "    }\n",
       "\n",
       "    .dataframe tbody tr th {\n",
       "        vertical-align: top;\n",
       "    }\n",
       "\n",
       "    .dataframe thead th {\n",
       "        text-align: right;\n",
       "    }\n",
       "</style>\n",
       "<table border=\"1\" class=\"dataframe\">\n",
       "  <thead>\n",
       "    <tr style=\"text-align: right;\">\n",
       "      <th></th>\n",
       "      <th>Employee_ID</th>\n",
       "      <th>Department</th>\n",
       "      <th>Gender</th>\n",
       "      <th>Age</th>\n",
       "      <th>Job_Title</th>\n",
       "      <th>Hire_Date</th>\n",
       "      <th>Years_At_Company</th>\n",
       "      <th>Education_Level</th>\n",
       "      <th>Performance_Score</th>\n",
       "      <th>Monthly_Salary</th>\n",
       "      <th>Work_Hours_Per_Week</th>\n",
       "      <th>Projects_Handled</th>\n",
       "      <th>Overtime_Hours</th>\n",
       "      <th>Sick_Days</th>\n",
       "      <th>Remote_Work_Frequency</th>\n",
       "      <th>Team_Size</th>\n",
       "      <th>Training_Hours</th>\n",
       "      <th>Promotions</th>\n",
       "      <th>Employee_Satisfaction_Score</th>\n",
       "      <th>Resigned</th>\n",
       "    </tr>\n",
       "  </thead>\n",
       "  <tbody>\n",
       "    <tr>\n",
       "      <th>0</th>\n",
       "      <td>1</td>\n",
       "      <td>IT</td>\n",
       "      <td>Male</td>\n",
       "      <td>55</td>\n",
       "      <td>Specialist</td>\n",
       "      <td>2022-01-19 08:03:05.556036</td>\n",
       "      <td>2</td>\n",
       "      <td>High School</td>\n",
       "      <td>5</td>\n",
       "      <td>6750.0</td>\n",
       "      <td>33</td>\n",
       "      <td>32</td>\n",
       "      <td>22</td>\n",
       "      <td>2</td>\n",
       "      <td>0</td>\n",
       "      <td>14</td>\n",
       "      <td>66</td>\n",
       "      <td>0</td>\n",
       "      <td>2.63</td>\n",
       "      <td>False</td>\n",
       "    </tr>\n",
       "    <tr>\n",
       "      <th>1</th>\n",
       "      <td>2</td>\n",
       "      <td>Finance</td>\n",
       "      <td>Male</td>\n",
       "      <td>29</td>\n",
       "      <td>Developer</td>\n",
       "      <td>2024-04-18 08:03:05.556036</td>\n",
       "      <td>0</td>\n",
       "      <td>High School</td>\n",
       "      <td>5</td>\n",
       "      <td>7500.0</td>\n",
       "      <td>34</td>\n",
       "      <td>34</td>\n",
       "      <td>13</td>\n",
       "      <td>14</td>\n",
       "      <td>100</td>\n",
       "      <td>12</td>\n",
       "      <td>61</td>\n",
       "      <td>2</td>\n",
       "      <td>1.72</td>\n",
       "      <td>False</td>\n",
       "    </tr>\n",
       "    <tr>\n",
       "      <th>2</th>\n",
       "      <td>3</td>\n",
       "      <td>Finance</td>\n",
       "      <td>Male</td>\n",
       "      <td>55</td>\n",
       "      <td>Specialist</td>\n",
       "      <td>2015-10-26 08:03:05.556036</td>\n",
       "      <td>8</td>\n",
       "      <td>High School</td>\n",
       "      <td>3</td>\n",
       "      <td>5850.0</td>\n",
       "      <td>37</td>\n",
       "      <td>27</td>\n",
       "      <td>6</td>\n",
       "      <td>3</td>\n",
       "      <td>50</td>\n",
       "      <td>10</td>\n",
       "      <td>1</td>\n",
       "      <td>0</td>\n",
       "      <td>3.17</td>\n",
       "      <td>False</td>\n",
       "    </tr>\n",
       "    <tr>\n",
       "      <th>3</th>\n",
       "      <td>4</td>\n",
       "      <td>Customer Support</td>\n",
       "      <td>Female</td>\n",
       "      <td>48</td>\n",
       "      <td>Analyst</td>\n",
       "      <td>2016-10-22 08:03:05.556036</td>\n",
       "      <td>7</td>\n",
       "      <td>Bachelor</td>\n",
       "      <td>2</td>\n",
       "      <td>4800.0</td>\n",
       "      <td>52</td>\n",
       "      <td>10</td>\n",
       "      <td>28</td>\n",
       "      <td>12</td>\n",
       "      <td>100</td>\n",
       "      <td>10</td>\n",
       "      <td>0</td>\n",
       "      <td>1</td>\n",
       "      <td>1.86</td>\n",
       "      <td>False</td>\n",
       "    </tr>\n",
       "    <tr>\n",
       "      <th>4</th>\n",
       "      <td>5</td>\n",
       "      <td>Engineering</td>\n",
       "      <td>Female</td>\n",
       "      <td>36</td>\n",
       "      <td>Analyst</td>\n",
       "      <td>2021-07-23 08:03:05.556036</td>\n",
       "      <td>3</td>\n",
       "      <td>Bachelor</td>\n",
       "      <td>2</td>\n",
       "      <td>4800.0</td>\n",
       "      <td>38</td>\n",
       "      <td>11</td>\n",
       "      <td>29</td>\n",
       "      <td>13</td>\n",
       "      <td>100</td>\n",
       "      <td>15</td>\n",
       "      <td>9</td>\n",
       "      <td>1</td>\n",
       "      <td>1.25</td>\n",
       "      <td>False</td>\n",
       "    </tr>\n",
       "  </tbody>\n",
       "</table>\n",
       "</div>"
      ],
      "text/plain": [
       "   Employee_ID        Department  Gender  Age   Job_Title  \\\n",
       "0            1                IT    Male   55  Specialist   \n",
       "1            2           Finance    Male   29   Developer   \n",
       "2            3           Finance    Male   55  Specialist   \n",
       "3            4  Customer Support  Female   48     Analyst   \n",
       "4            5       Engineering  Female   36     Analyst   \n",
       "\n",
       "                    Hire_Date  Years_At_Company Education_Level  \\\n",
       "0  2022-01-19 08:03:05.556036                 2     High School   \n",
       "1  2024-04-18 08:03:05.556036                 0     High School   \n",
       "2  2015-10-26 08:03:05.556036                 8     High School   \n",
       "3  2016-10-22 08:03:05.556036                 7        Bachelor   \n",
       "4  2021-07-23 08:03:05.556036                 3        Bachelor   \n",
       "\n",
       "   Performance_Score  Monthly_Salary  Work_Hours_Per_Week  Projects_Handled  \\\n",
       "0                  5          6750.0                   33                32   \n",
       "1                  5          7500.0                   34                34   \n",
       "2                  3          5850.0                   37                27   \n",
       "3                  2          4800.0                   52                10   \n",
       "4                  2          4800.0                   38                11   \n",
       "\n",
       "   Overtime_Hours  Sick_Days  Remote_Work_Frequency  Team_Size  \\\n",
       "0              22          2                      0         14   \n",
       "1              13         14                    100         12   \n",
       "2               6          3                     50         10   \n",
       "3              28         12                    100         10   \n",
       "4              29         13                    100         15   \n",
       "\n",
       "   Training_Hours  Promotions  Employee_Satisfaction_Score  Resigned  \n",
       "0              66           0                         2.63     False  \n",
       "1              61           2                         1.72     False  \n",
       "2               1           0                         3.17     False  \n",
       "3               0           1                         1.86     False  \n",
       "4               9           1                         1.25     False  "
      ]
     },
     "execution_count": 26,
     "metadata": {},
     "output_type": "execute_result"
    }
   ],
   "source": [
    "data.head()"
   ]
  },
  {
   "cell_type": "code",
   "execution_count": 27,
   "metadata": {},
   "outputs": [
    {
     "name": "stdout",
     "output_type": "stream",
     "text": [
      "<class 'pandas.core.frame.DataFrame'>\n",
      "RangeIndex: 100000 entries, 0 to 99999\n",
      "Data columns (total 20 columns):\n",
      " #   Column                       Non-Null Count   Dtype  \n",
      "---  ------                       --------------   -----  \n",
      " 0   Employee_ID                  100000 non-null  int64  \n",
      " 1   Department                   100000 non-null  object \n",
      " 2   Gender                       100000 non-null  object \n",
      " 3   Age                          100000 non-null  int64  \n",
      " 4   Job_Title                    100000 non-null  object \n",
      " 5   Hire_Date                    100000 non-null  object \n",
      " 6   Years_At_Company             100000 non-null  int64  \n",
      " 7   Education_Level              100000 non-null  object \n",
      " 8   Performance_Score            100000 non-null  int64  \n",
      " 9   Monthly_Salary               100000 non-null  float64\n",
      " 10  Work_Hours_Per_Week          100000 non-null  int64  \n",
      " 11  Projects_Handled             100000 non-null  int64  \n",
      " 12  Overtime_Hours               100000 non-null  int64  \n",
      " 13  Sick_Days                    100000 non-null  int64  \n",
      " 14  Remote_Work_Frequency        100000 non-null  int64  \n",
      " 15  Team_Size                    100000 non-null  int64  \n",
      " 16  Training_Hours               100000 non-null  int64  \n",
      " 17  Promotions                   100000 non-null  int64  \n",
      " 18  Employee_Satisfaction_Score  100000 non-null  float64\n",
      " 19  Resigned                     100000 non-null  bool   \n",
      "dtypes: bool(1), float64(2), int64(12), object(5)\n",
      "memory usage: 14.6+ MB\n"
     ]
    }
   ],
   "source": [
    "data.info()"
   ]
  },
  {
   "cell_type": "code",
   "execution_count": 28,
   "metadata": {},
   "outputs": [
    {
     "data": {
      "text/plain": [
       "(100000, 20)"
      ]
     },
     "execution_count": 28,
     "metadata": {},
     "output_type": "execute_result"
    }
   ],
   "source": [
    "data.shape"
   ]
  },
  {
   "cell_type": "code",
   "execution_count": 29,
   "metadata": {},
   "outputs": [
    {
     "data": {
      "text/plain": [
       "0"
      ]
     },
     "execution_count": 29,
     "metadata": {},
     "output_type": "execute_result"
    }
   ],
   "source": [
    "data.isna().sum().sum()"
   ]
  },
  {
   "cell_type": "code",
   "execution_count": 30,
   "metadata": {},
   "outputs": [
    {
     "data": {
      "text/plain": [
       "0"
      ]
     },
     "execution_count": 30,
     "metadata": {},
     "output_type": "execute_result"
    }
   ],
   "source": [
    "data.duplicated().sum()"
   ]
  },
  {
   "cell_type": "code",
   "execution_count": 31,
   "metadata": {},
   "outputs": [
    {
     "data": {
      "text/plain": [
       "Index(['Employee_ID', 'Department', 'Gender', 'Age', 'Job_Title', 'Hire_Date',\n",
       "       'Years_At_Company', 'Education_Level', 'Performance_Score',\n",
       "       'Monthly_Salary', 'Work_Hours_Per_Week', 'Projects_Handled',\n",
       "       'Overtime_Hours', 'Sick_Days', 'Remote_Work_Frequency', 'Team_Size',\n",
       "       'Training_Hours', 'Promotions', 'Employee_Satisfaction_Score',\n",
       "       'Resigned'],\n",
       "      dtype='object')"
      ]
     },
     "execution_count": 31,
     "metadata": {},
     "output_type": "execute_result"
    }
   ],
   "source": [
    "data.columns"
   ]
  },
  {
   "cell_type": "code",
   "execution_count": 32,
   "metadata": {},
   "outputs": [],
   "source": [
    "data.drop(columns=['Employee_ID', 'Hire_Date', 'Work_Hours_Per_Week', 'Sick_Days', 'Remote_Work_Frequency', 'Team_Size', 'Training_Hours', 'Resigned'], inplace=True)"
   ]
  },
  {
   "cell_type": "code",
   "execution_count": 33,
   "metadata": {},
   "outputs": [
    {
     "data": {
      "text/plain": [
       "Index(['Department', 'Gender', 'Age', 'Job_Title', 'Years_At_Company',\n",
       "       'Education_Level', 'Performance_Score', 'Monthly_Salary',\n",
       "       'Projects_Handled', 'Overtime_Hours', 'Promotions',\n",
       "       'Employee_Satisfaction_Score'],\n",
       "      dtype='object')"
      ]
     },
     "execution_count": 33,
     "metadata": {},
     "output_type": "execute_result"
    }
   ],
   "source": [
    "data.columns"
   ]
  },
  {
   "cell_type": "code",
   "execution_count": 41,
   "metadata": {},
   "outputs": [
    {
     "data": {
      "text/html": [
       "<div>\n",
       "<style scoped>\n",
       "    .dataframe tbody tr th:only-of-type {\n",
       "        vertical-align: middle;\n",
       "    }\n",
       "\n",
       "    .dataframe tbody tr th {\n",
       "        vertical-align: top;\n",
       "    }\n",
       "\n",
       "    .dataframe thead th {\n",
       "        text-align: right;\n",
       "    }\n",
       "</style>\n",
       "<table border=\"1\" class=\"dataframe\">\n",
       "  <thead>\n",
       "    <tr style=\"text-align: right;\">\n",
       "      <th></th>\n",
       "      <th>Department</th>\n",
       "      <th>Gender</th>\n",
       "      <th>Age</th>\n",
       "      <th>Job_Title</th>\n",
       "      <th>Years_At_Company</th>\n",
       "      <th>Education_Level</th>\n",
       "      <th>Performance_Score</th>\n",
       "      <th>Monthly_Salary</th>\n",
       "      <th>Projects_Handled</th>\n",
       "      <th>Overtime_Hours</th>\n",
       "      <th>Promotions</th>\n",
       "      <th>Employee_Satisfaction_Score</th>\n",
       "    </tr>\n",
       "  </thead>\n",
       "  <tbody>\n",
       "    <tr>\n",
       "      <th>0</th>\n",
       "      <td>IT</td>\n",
       "      <td>Male</td>\n",
       "      <td>55</td>\n",
       "      <td>Specialist</td>\n",
       "      <td>2</td>\n",
       "      <td>High School</td>\n",
       "      <td>5</td>\n",
       "      <td>6750.0</td>\n",
       "      <td>32</td>\n",
       "      <td>22</td>\n",
       "      <td>0</td>\n",
       "      <td>2.63</td>\n",
       "    </tr>\n",
       "    <tr>\n",
       "      <th>1</th>\n",
       "      <td>Finance</td>\n",
       "      <td>Male</td>\n",
       "      <td>29</td>\n",
       "      <td>Developer</td>\n",
       "      <td>0</td>\n",
       "      <td>High School</td>\n",
       "      <td>5</td>\n",
       "      <td>7500.0</td>\n",
       "      <td>34</td>\n",
       "      <td>13</td>\n",
       "      <td>2</td>\n",
       "      <td>1.72</td>\n",
       "    </tr>\n",
       "  </tbody>\n",
       "</table>\n",
       "</div>"
      ],
      "text/plain": [
       "  Department Gender  Age   Job_Title  Years_At_Company Education_Level  \\\n",
       "0         IT   Male   55  Specialist                 2     High School   \n",
       "1    Finance   Male   29   Developer                 0     High School   \n",
       "\n",
       "   Performance_Score  Monthly_Salary  Projects_Handled  Overtime_Hours  \\\n",
       "0                  5          6750.0                32              22   \n",
       "1                  5          7500.0                34              13   \n",
       "\n",
       "   Promotions  Employee_Satisfaction_Score  \n",
       "0           0                         2.63  \n",
       "1           2                         1.72  "
      ]
     },
     "execution_count": 41,
     "metadata": {},
     "output_type": "execute_result"
    }
   ],
   "source": [
    "data.head(2)"
   ]
  },
  {
   "cell_type": "code",
   "execution_count": 36,
   "metadata": {},
   "outputs": [
    {
     "data": {
      "text/plain": [
       "Department\n",
       "Engineering         6417.246258\n",
       "IT                  6414.598868\n",
       "Sales               6413.154109\n",
       "Operations          6412.306592\n",
       "Customer Support    6403.881792\n",
       "HR                  6400.355839\n",
       "Finance             6398.575893\n",
       "Legal               6391.275409\n",
       "Marketing           6377.857525\n",
       "Name: Monthly_Salary, dtype: float64"
      ]
     },
     "execution_count": 36,
     "metadata": {},
     "output_type": "execute_result"
    }
   ],
   "source": [
    "data.groupby(\"Department\")[\"Monthly_Salary\"].mean().sort_values(ascending=False)"
   ]
  },
  {
   "cell_type": "code",
   "execution_count": 40,
   "metadata": {},
   "outputs": [
    {
     "data": {
      "image/png": "[encoded data removed]",
      "text/plain": [
       "<Figure size 432x288 with 1 Axes>"
      ]
     },
     "metadata": {
      "needs_background": "light"
     },
     "output_type": "display_data"
    }
   ],
   "source": [
    "data.groupby(\"Department\")[\"Monthly_Salary\"].mean().sort_values(ascending=False).plot(kind='barh', colormap='viridis')\n",
    "plt.title('Average Monthly Salary by Department')\n",
    "plt.xlabel('Average Monthly Salary')\n",
    "plt.ylabel('Department')\n",
    "plt.show()"
   ]
  },
  {
   "cell_type": "code",
   "execution_count": null,
   "metadata": {},
   "outputs": [],
   "source": []
  }
 ],
 "metadata": {
  "kernelspec": {
   "display_name": "Python 3",
   "language": "python",
   "name": "python3"
  },
  "language_info": {
   "codemirror_mode": {
    "name": "ipython",
    "version": 3
   },
   "file_extension": ".py",
   "mimetype": "text/x-python",
   "name": "python",
   "nbconvert_exporter": "python",
   "pygments_lexer": "ipython3",
   "version": "3.10.4"
  }
 },
 "nbformat": 4,
 "nbformat_minor": 2
}
